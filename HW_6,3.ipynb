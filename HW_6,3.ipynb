{
 "cells": [
  {
   "cell_type": "code",
   "execution_count": 2,
   "metadata": {},
   "outputs": [],
   "source": [
    "import numpy as np"
   ]
  },
  {
   "cell_type": "code",
   "execution_count": 3,
   "metadata": {},
   "outputs": [
    {
     "name": "stdout",
     "output_type": "stream",
     "text": [
      "5\n"
     ]
    }
   ],
   "source": [
    "p = int(input())"
   ]
  },
  {
   "cell_type": "code",
   "execution_count": 4,
   "metadata": {},
   "outputs": [
    {
     "name": "stdout",
     "output_type": "stream",
     "text": [
      "9\n"
     ]
    }
   ],
   "source": [
    "k = int(input())"
   ]
  },
  {
   "cell_type": "code",
   "execution_count": 62,
   "metadata": {},
   "outputs": [],
   "source": [
    "x = np.random.random(p).reshape(p,1)"
   ]
  },
  {
   "cell_type": "code",
   "execution_count": 63,
   "metadata": {},
   "outputs": [],
   "source": [
    "y = np.eye(p)"
   ]
  },
  {
   "cell_type": "code",
   "execution_count": 64,
   "metadata": {},
   "outputs": [],
   "source": [
    "a = y * x"
   ]
  },
  {
   "cell_type": "code",
   "execution_count": 65,
   "metadata": {},
   "outputs": [],
   "source": [
    "u = np.random.random((p,k))"
   ]
  },
  {
   "cell_type": "code",
   "execution_count": 66,
   "metadata": {},
   "outputs": [],
   "source": [
    "v = np.random.random((k,p))"
   ]
  },
  {
   "cell_type": "code",
   "execution_count": 67,
   "metadata": {},
   "outputs": [],
   "source": [
    "c = np.eye(k)"
   ]
  },
  {
   "cell_type": "code",
   "execution_count": 68,
   "metadata": {},
   "outputs": [],
   "source": [
    "def woodbury(a, u, v):\n",
    "    a1 = np.linalg.inv(a)\n",
    "    f = np.linalg.inv(c + v @ a1 @ u)\n",
    "    return a1 - a1 @ u @ f @ v @ a1"
   ]
  },
  {
   "cell_type": "code",
   "execution_count": 69,
   "metadata": {},
   "outputs": [
    {
     "data": {
      "text/plain": [
       "array([[  72.56154734,   30.69393497,    1.67035358,  -47.56901829,\n",
       "         -58.91481626],\n",
       "       [ 102.31662041,   50.14723361,    4.09959514,  -69.89669862,\n",
       "         -91.2433271 ],\n",
       "       [   2.96844079,    2.6695574 ,    1.19288055,   -2.8198572 ,\n",
       "          -4.62052504],\n",
       "       [  17.41708204,    7.5817155 ,    0.56448436,  -10.73142217,\n",
       "         -15.36574206],\n",
       "       [-202.55885636,  -94.96422087,   -7.87383032,  136.35090705,\n",
       "         177.20819657]])"
      ]
     },
     "execution_count": 69,
     "metadata": {},
     "output_type": "execute_result"
    }
   ],
   "source": [
    "woodbury(a, u, v)"
   ]
  },
  {
   "cell_type": "code",
   "execution_count": 70,
   "metadata": {},
   "outputs": [],
   "source": [
    "def realwoodbury(a, u, v):\n",
    "    return np.linalg.inv(a + u @ v)"
   ]
  },
  {
   "cell_type": "code",
   "execution_count": 71,
   "metadata": {},
   "outputs": [
    {
     "data": {
      "text/plain": [
       "array([[  72.56154734,   30.69393497,    1.67035358,  -47.56901829,\n",
       "         -58.91481626],\n",
       "       [ 102.31662041,   50.14723361,    4.09959514,  -69.89669862,\n",
       "         -91.2433271 ],\n",
       "       [   2.96844079,    2.6695574 ,    1.19288055,   -2.8198572 ,\n",
       "          -4.62052504],\n",
       "       [  17.41708204,    7.5817155 ,    0.56448436,  -10.73142217,\n",
       "         -15.36574206],\n",
       "       [-202.55885636,  -94.96422087,   -7.87383032,  136.35090705,\n",
       "         177.20819657]])"
      ]
     },
     "execution_count": 71,
     "metadata": {},
     "output_type": "execute_result"
    }
   ],
   "source": [
    "realwoodbury(a, u, v)"
   ]
  },
  {
   "cell_type": "code",
   "execution_count": 2,
   "metadata": {},
   "outputs": [
    {
     "name": "stdout",
     "output_type": "stream",
     "text": [
      "[[1. 0.]\n",
      " [0. 1.]] [[ 1.  0.]\n",
      " [-0. -1.]]\n"
     ]
    }
   ],
   "source": [
    "import numpy as np \n",
    "import matplotlib \n",
    "A = np.array([[3,0], [0,-2]]) \n",
    "Lv, Sig, Rv = np.linalg.svd(A) \n",
    "print(Lv, Rv)"
   ]
  },
  {
   "cell_type": "code",
   "execution_count": null,
   "metadata": {},
   "outputs": [],
   "source": []
  }
 ],
 "metadata": {
  "kernelspec": {
   "display_name": "Python 3",
   "language": "python",
   "name": "python3"
  },
  "language_info": {
   "codemirror_mode": {
    "name": "ipython",
    "version": 3
   },
   "file_extension": ".py",
   "mimetype": "text/x-python",
   "name": "python",
   "nbconvert_exporter": "python",
   "pygments_lexer": "ipython3",
   "version": "3.8.3"
  }
 },
 "nbformat": 4,
 "nbformat_minor": 4
}
