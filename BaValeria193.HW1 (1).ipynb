{
 "cells": [
  {
   "cell_type": "code",
   "execution_count": 5,
   "metadata": {},
   "outputs": [
    {
     "name": "stdout",
     "output_type": "stream",
     "text": [
      "0.1\n",
      "0.03483884137062678\n"
     ]
    }
   ],
   "source": [
    "import numpy as np\n",
    "a = float(input())\n",
    "I_0 = np.log((1 + a)/a)\n",
    "i = 0\n",
    "while i <= 25:\n",
    "    i += 1\n",
    "    I_0 = 1/i - a*I_0\n",
    "print(I_0)\n"
   ]
  },
  {
   "cell_type": "code",
   "execution_count": 9,
   "metadata": {},
   "outputs": [
    {
     "name": "stdout",
     "output_type": "stream",
     "text": [
      "10\n",
      "0.003801750200763486\n"
     ]
    }
   ],
   "source": [
    "import numpy as np\n",
    "a = float(input())\n",
    "I_0 = 0\n",
    "i = 150\n",
    "while i >= 25:\n",
    "    i -= 1\n",
    "    I_0 = (1/i - I_0)/a\n",
    "print(I_0)\n"
   ]
  },
  {
   "cell_type": "code",
   "execution_count": null,
   "metadata": {},
   "outputs": [],
   "source": []
  },
  {
   "cell_type": "code",
   "execution_count": 4,
   "metadata": {},
   "outputs": [
    {
     "name": "stdout",
     "output_type": "stream",
     "text": [
      "True\n",
      "True\n",
      "True\n",
      "False\n",
      "False\n"
     ]
    }
   ],
   "source": [
    "import cmath\n",
    "import numpy as np\n",
    "def solve_quad(b,c):\n",
    "    Dis = b*b - 4*c\n",
    "    if Dis >= 0:\n",
    "        x1 = (-b + np.sqrt(Dis)) / (2)\n",
    "        x2 = (-b - np.sqrt(Dis)) / (2)        \n",
    "    else:\n",
    "        x1 = (-b + cmath.sqrt(Dis)) / (2)\n",
    "        x2 = (-b - cmath.sqrt(Dis)) / (2)\n",
    "    v = (x1, x2)\n",
    "    return (v)\n",
    "\n",
    "\n",
    "\n",
    "from numpy import allclose\n",
    "variants = [{'b': 4.0, 'c': 3.0},\n",
    "            {'b': 2.0, 'c': 1.0},\n",
    "            {'b': 0.5, 'c': 4.0},\n",
    "            {'b': 1e10, 'c': 3.0},\n",
    "            {'b': -1e10, 'c': 4.0},]\n",
    "\n",
    "for v in variants:\n",
    "    x1, x2 = solve_quad(**v)\n",
    "    print(allclose(x1*x2, v['c']))"
   ]
  },
  {
   "cell_type": "code",
   "execution_count": null,
   "metadata": {},
   "outputs": [],
   "source": []
  },
  {
   "cell_type": "code",
   "execution_count": 6,
   "metadata": {},
   "outputs": [
    {
     "name": "stdout",
     "output_type": "stream",
     "text": [
      "1.645\n"
     ]
    }
   ],
   "source": [
    "import math\n",
    "def round_to_n (x , n ):\n",
    "    if x == 0:\n",
    "        return x\n",
    "    else :\n",
    "        return round (x , - int ( math . floor ( math . log10 ( abs ( x )))) + ( n - 1))\n",
    "    \n",
    "    \n",
    "res = 0\n",
    "for k in range (3001,0, -1):\n",
    "    res = round_to_n ( res +1/ k **2 , 4)\n",
    "print(res)\n"
   ]
  },
  {
   "cell_type": "code",
   "execution_count": null,
   "metadata": {},
   "outputs": [],
   "source": []
  }
 ],
 "metadata": {
  "kernelspec": {
   "display_name": "Python 3",
   "language": "python",
   "name": "python3"
  },
  "language_info": {
   "codemirror_mode": {
    "name": "ipython",
    "version": 3
   },
   "file_extension": ".py",
   "mimetype": "text/x-python",
   "name": "python",
   "nbconvert_exporter": "python",
   "pygments_lexer": "ipython3",
   "version": "3.8.3"
  }
 },
 "nbformat": 4,
 "nbformat_minor": 4
}
